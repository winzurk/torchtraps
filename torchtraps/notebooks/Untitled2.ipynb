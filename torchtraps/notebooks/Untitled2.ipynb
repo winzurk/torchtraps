{
 "cells": [
  {
   "cell_type": "code",
   "execution_count": 1,
   "metadata": {},
   "outputs": [],
   "source": [
    "from pycocotools.coco import COCO\n",
    "import json\n",
    "from coco_camera_traps_loader import load_image\n",
    "import torch\n",
    "import matplotlib.pyplot as plt\n",
    "import numpy as np\n",
    "from torchvision.datasets import CocoDetection\n",
    "import torch.utils.data as data\n",
    "from PIL import Image\n",
    "import os\n",
    "from coco_camera_traps_loader import CocoCameraTrapsDetection\n",
    "from torch.utils.data import Dataset, DataLoader\n",
    "import torch\n",
    "import torch.nn as nn\n",
    "from torch.autograd import Variable\n",
    "import time\n",
    "import copy\n",
    "from barbar import Bar"
   ]
  },
  {
   "cell_type": "code",
   "execution_count": 2,
   "metadata": {},
   "outputs": [],
   "source": [
    "%matplotlib inline\n",
    "def show(img):\n",
    "    #img = img[0]\n",
    "    npimg = img.numpy()\n",
    "    plt.imshow(np.transpose(npimg, (1,2,0)), interpolation='nearest')"
   ]
  },
  {
   "cell_type": "code",
   "execution_count": 3,
   "metadata": {},
   "outputs": [],
   "source": [
    "json_file = 'lila/SS_S1/SnapshotSerengetiBboxes_20190903.json'\n",
    "root = \"../../../scratch/zwinzurk/wild/datasets\""
   ]
  },
  {
   "cell_type": "code",
   "execution_count": 4,
   "metadata": {},
   "outputs": [
    {
     "name": "stdout",
     "output_type": "stream",
     "text": [
      "loading annotations into memory...\n",
      "Done (t=0.91s)\n",
      "creating index...\n",
      "index created!\n"
     ]
    }
   ],
   "source": [
    "dataset = CocoCameraTrapsDetection(root, json_file)\n",
    "dataloader = DataLoader(dataset, batch_size=32, shuffle=False, num_workers=8)"
   ]
  },
  {
   "cell_type": "code",
   "execution_count": 6,
   "metadata": {},
   "outputs": [
    {
     "name": "stdout",
     "output_type": "stream",
     "text": [
      "11280/11280: [===============================>] - ETA 2.1sss\n"
     ]
    }
   ],
   "source": [
    "for idx, data in enumerate(Bar(dataloader)):\n",
    "    image = data['image']"
   ]
  },
  {
   "cell_type": "code",
   "execution_count": 7,
   "metadata": {},
   "outputs": [
    {
     "data": {
      "text/plain": [
       "{'id': ['HGMyU1533033098198',\n",
       "  '83cja1541167668428',\n",
       "  'JdmEY1533036656559',\n",
       "  'YFbZi1533037912243',\n",
       "  'CFTfR1533039934428',\n",
       "  'CFPm81541153754137',\n",
       "  'PHUT71533037219390',\n",
       "  'uWx1z1541159466550',\n",
       "  'Igzlf1541161177408',\n",
       "  '9Yyw51533038666849',\n",
       "  'ryTGQ1533040050096',\n",
       "  '3DYWx1533029221156',\n",
       "  'LFys31533024354745',\n",
       "  'qJomQ1541164177736',\n",
       "  'KvFxO1541157791989',\n",
       "  'kxebi1533039968592'],\n",
       " 'category_id': tensor([1, 1, 1, 1, 1, 1, 1, 1, 1, 1, 1, 1, 1, 1, 1, 1]),\n",
       " 'image_id': ['S1/H05/H05_R2/S1_H05_R2_PICT0765',\n",
       "  'S1/F06/F06_R3/S1_F06_R3_PICT0082',\n",
       "  'S1/M09/M09_R1/S1_M09_R1_PICT0292',\n",
       "  'S1/Q08/Q08_R1/S1_Q08_R1_PICT0231',\n",
       "  'S1/U11/U11_R1/S1_U11_R1_PICT0177',\n",
       "  'S1/K10/K10_R1/S1_K10_R1_PICT0261',\n",
       "  'S1/N05/N05_R1/S1_N05_R1_PICT2714',\n",
       "  'S1/H02/H02_R2/S1_H02_R2_PICT0640',\n",
       "  'S1/I02/I02_R1/S1_I02_R1_PICT3345',\n",
       "  'S1/E05/E05_R4/S1_E05_R4_PICT0991',\n",
       "  'S1/U11/U11_R1/S1_U11_R1_PICT0081',\n",
       "  'S1/E12/E12_R1/S1_E12_R1_PICT0304',\n",
       "  'S1/Q09/Q09_R1/S1_Q09_R1_PICT0044',\n",
       "  'S1/J08/J08_R1/S1_J08_R1_PICT0545',\n",
       "  'S1/F10/F10_R1/S1_F10_R1_PICT0218',\n",
       "  'S1/U11/U11_R1/S1_U11_R1_PICT0080'],\n",
       " 'bbox': [tensor([1.4270e+03, 4.1600e+02, 4.3643e+02, 1.1540e+03, 1.7637e+03, 9.9999e-01,\n",
       "          1.8380e+03, 0.0000e+00, 7.5243e+02, 0.0000e+00, 1.5012e+03, 6.0900e+02,\n",
       "          0.0000e+00, 1.4506e+03, 0.0000e+00, 8.0200e+02], dtype=torch.float64),\n",
       "  tensor([ 825.0811,  511.0000, 1035.0000,  873.0000,   10.0000,    0.0000,\n",
       "           645.0000,  790.3113,  591.8452,  544.3535,  522.0000,  652.4602,\n",
       "          1024.2703,  286.2198,  777.0000,  691.0000], dtype=torch.float64),\n",
       "  tensor([ 373.6216,  257.0000,  241.8303,  412.0000,  284.2841, 2047.0000,\n",
       "           209.4946, 1097.9154,  235.7020,  592.9999,  268.0000, 1168.9540,\n",
       "           597.3513,  597.3508, 1374.0000,  239.0000], dtype=torch.float64),\n",
       "  tensor([ 280.2162,  488.0000,  398.9778,  188.0000, 1047.0076, 1435.0000,\n",
       "           223.0000,  646.6887,  408.1548,  525.7547,  276.0000,  723.1434,\n",
       "           411.1351, 1151.9626,  661.0000,  124.0000], dtype=torch.float64)]}"
      ]
     },
     "execution_count": 7,
     "metadata": {},
     "output_type": "execute_result"
    }
   ],
   "source": [
    "data.get('target')"
   ]
  },
  {
   "cell_type": "code",
   "execution_count": null,
   "metadata": {},
   "outputs": [],
   "source": []
  },
  {
   "cell_type": "code",
   "execution_count": null,
   "metadata": {},
   "outputs": [],
   "source": []
  },
  {
   "cell_type": "code",
   "execution_count": null,
   "metadata": {},
   "outputs": [],
   "source": []
  },
  {
   "cell_type": "code",
   "execution_count": null,
   "metadata": {},
   "outputs": [],
   "source": []
  },
  {
   "cell_type": "code",
   "execution_count": null,
   "metadata": {},
   "outputs": [],
   "source": []
  },
  {
   "cell_type": "code",
   "execution_count": null,
   "metadata": {},
   "outputs": [],
   "source": [
    "data.get('image').shape"
   ]
  },
  {
   "cell_type": "code",
   "execution_count": null,
   "metadata": {},
   "outputs": [],
   "source": []
  },
  {
   "cell_type": "code",
   "execution_count": null,
   "metadata": {},
   "outputs": [],
   "source": [
    "target = \n",
    "data.get('target')[0].get()"
   ]
  },
  {
   "cell_type": "code",
   "execution_count": null,
   "metadata": {},
   "outputs": [],
   "source": []
  },
  {
   "cell_type": "code",
   "execution_count": null,
   "metadata": {},
   "outputs": [],
   "source": [
    "dataloader = iter(dataset)"
   ]
  },
  {
   "cell_type": "code",
   "execution_count": null,
   "metadata": {},
   "outputs": [],
   "source": [
    "x = next(dataloader)"
   ]
  },
  {
   "cell_type": "code",
   "execution_count": null,
   "metadata": {},
   "outputs": [],
   "source": [
    "show(x['image'])"
   ]
  },
  {
   "cell_type": "code",
   "execution_count": null,
   "metadata": {},
   "outputs": [],
   "source": [
    "x['target']"
   ]
  },
  {
   "cell_type": "code",
   "execution_count": null,
   "metadata": {},
   "outputs": [],
   "source": []
  },
  {
   "cell_type": "code",
   "execution_count": null,
   "metadata": {},
   "outputs": [],
   "source": []
  },
  {
   "cell_type": "code",
   "execution_count": null,
   "metadata": {},
   "outputs": [],
   "source": []
  },
  {
   "cell_type": "code",
   "execution_count": null,
   "metadata": {},
   "outputs": [],
   "source": [
    "%matplotlib inline\n",
    "def show(img):\n",
    "    #img = img[0]\n",
    "    npimg = img.numpy()\n",
    "    plt.imshow(np.transpose(npimg, (1,2,0)), interpolation='nearest')"
   ]
  },
  {
   "cell_type": "code",
   "execution_count": null,
   "metadata": {},
   "outputs": [],
   "source": [
    "coco = COCO(json_file)"
   ]
  },
  {
   "cell_type": "code",
   "execution_count": null,
   "metadata": {},
   "outputs": [],
   "source": [
    "imgs = list(coco.imgs.keys())"
   ]
  },
  {
   "cell_type": "code",
   "execution_count": null,
   "metadata": {},
   "outputs": [],
   "source": [
    "anns = list(coco.anns.keys())"
   ]
  },
  {
   "cell_type": "code",
   "execution_count": null,
   "metadata": {},
   "outputs": [],
   "source": [
    "imgs = list(set([coco.anns[i]['image_id'] for i in anns]))"
   ]
  },
  {
   "cell_type": "code",
   "execution_count": null,
   "metadata": {},
   "outputs": [],
   "source": [
    "imgs = list(set([coco.anns[i]['image_id'] for i in anns]))"
   ]
  },
  {
   "cell_type": "code",
   "execution_count": null,
   "metadata": {},
   "outputs": [],
   "source": [
    "def get_ids_and_anns(coco):\n",
    "    imgs = list(coco.imgs.keys())\n",
    "    anns = list(coco.anns.keys())\n",
    "    # remove images with no annotations\n",
    "    imgs = list(set([coco.anns[i]['image_id'] for i in anns]))\n",
    "    # remove images not in season 1\n",
    "    imgs = [i for i in imgs if coco.imgs[i]['season'] == 'S1']\n",
    "    # image set\n",
    "    imgs_set = set(imgs)\n",
    "    anns = [i for i in anns if coco.anns[i]['image_id'] in imgs_set]\n",
    "    return imgs, anns"
   ]
  },
  {
   "cell_type": "code",
   "execution_count": null,
   "metadata": {},
   "outputs": [],
   "source": [
    "imgs, anns = get_ids_and_anns(coco)"
   ]
  },
  {
   "cell_type": "code",
   "execution_count": null,
   "metadata": {},
   "outputs": [],
   "source": [
    "len(imgs)"
   ]
  },
  {
   "cell_type": "code",
   "execution_count": null,
   "metadata": {},
   "outputs": [],
   "source": [
    "len(anns)"
   ]
  },
  {
   "cell_type": "code",
   "execution_count": null,
   "metadata": {},
   "outputs": [],
   "source": [
    "coco.anns[anns[0]]['image_id']"
   ]
  },
  {
   "cell_type": "code",
   "execution_count": null,
   "metadata": {},
   "outputs": [],
   "source": [
    "coco.anns[]"
   ]
  },
  {
   "cell_type": "code",
   "execution_count": null,
   "metadata": {},
   "outputs": [],
   "source": []
  }
 ],
 "metadata": {
  "kernelspec": {
   "display_name": "Python 3",
   "language": "python",
   "name": "python3"
  },
  "language_info": {
   "codemirror_mode": {
    "name": "ipython",
    "version": 3
   },
   "file_extension": ".py",
   "mimetype": "text/x-python",
   "name": "python",
   "nbconvert_exporter": "python",
   "pygments_lexer": "ipython3",
   "version": "3.8.1"
  }
 },
 "nbformat": 4,
 "nbformat_minor": 4
}

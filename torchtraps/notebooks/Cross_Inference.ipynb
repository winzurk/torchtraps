{
 "cells": [
  {
   "cell_type": "markdown",
   "metadata": {},
   "source": [
    "#### Cross Inference"
   ]
  },
  {
   "cell_type": "code",
   "execution_count": 1,
   "metadata": {},
   "outputs": [],
   "source": [
    "import numpy as np\n",
    "import pandas as pd\n",
    "import torch\n",
    "import torchvision\n",
    "import torch.nn as nn\n",
    "import torch.optim as optim\n",
    "from torch.autograd import Variable\n",
    "from torch.optim import lr_scheduler\n",
    "from torchvision import datasets, models, transforms\n",
    "from torch.utils.data import DataLoader\n",
    "from torchvision.utils import save_image\n",
    "import torch.nn.functional as F\n",
    "import matplotlib.pyplot as plt\n",
    "import time\n",
    "import os\n",
    "import copy\n",
    "import magic\n",
    "from torchvision.utils import save_image\n",
    "import torch.nn.functional as F\n",
    "from barbar import Bar\n",
    "import cv2\n",
    "from sklearn.metrics import accuracy_score"
   ]
  },
  {
   "cell_type": "code",
   "execution_count": 2,
   "metadata": {},
   "outputs": [],
   "source": [
    "# set gpu\n",
    "device = torch.device(\"cuda\")\n",
    "\n",
    "# load data\n",
    "data_dir = '../../../scratch/zwinzurk/wild/datasets'\n",
    "\n",
    "# Test at same location\n",
    "#name = 'lila/KAR_S1/KAR_S1_'\n",
    "\n",
    "# Test at different location\n",
    "name = 'lila/ENO_S1/ENO_S1_train'\n",
    "#name = 'lila/MTZ_S1/MTZ_S1_'\n",
    "#name = 'lila/KRU_S1/KRU_S1_'\n",
    "\n",
    "# inference batch size\n",
    "batch_size = 192"
   ]
  },
  {
   "cell_type": "code",
   "execution_count": 3,
   "metadata": {},
   "outputs": [],
   "source": [
    "# plot training loss\n",
    "#df = pd.read_csv('reports/KAR_S1_detection_finetune_densenet121_01.txt', sep='\\t')\n",
    "df = pd.read_csv('reports/MTZ_S1_detection_scratch_resnet50_01.txt', sep='\\t')"
   ]
  },
  {
   "cell_type": "code",
   "execution_count": 4,
   "metadata": {},
   "outputs": [
    {
     "data": {
      "text/html": [
       "<div>\n",
       "<style scoped>\n",
       "    .dataframe tbody tr th:only-of-type {\n",
       "        vertical-align: middle;\n",
       "    }\n",
       "\n",
       "    .dataframe tbody tr th {\n",
       "        vertical-align: top;\n",
       "    }\n",
       "\n",
       "    .dataframe thead th {\n",
       "        text-align: right;\n",
       "    }\n",
       "</style>\n",
       "<table border=\"1\" class=\"dataframe\">\n",
       "  <thead>\n",
       "    <tr style=\"text-align: right;\">\n",
       "      <th></th>\n",
       "      <th>epoch</th>\n",
       "      <th>training_loss</th>\n",
       "      <th>training_acc</th>\n",
       "      <th>valid_loss</th>\n",
       "      <th>valid_acc</th>\n",
       "    </tr>\n",
       "  </thead>\n",
       "  <tbody>\n",
       "    <tr>\n",
       "      <th>0</th>\n",
       "      <td>1</td>\n",
       "      <td>0.812216</td>\n",
       "      <td>0.689931</td>\n",
       "      <td>0.455923</td>\n",
       "      <td>0.780904</td>\n",
       "    </tr>\n",
       "    <tr>\n",
       "      <th>1</th>\n",
       "      <td>2</td>\n",
       "      <td>0.405340</td>\n",
       "      <td>0.823442</td>\n",
       "      <td>0.360418</td>\n",
       "      <td>0.845695</td>\n",
       "    </tr>\n",
       "    <tr>\n",
       "      <th>2</th>\n",
       "      <td>3</td>\n",
       "      <td>0.322367</td>\n",
       "      <td>0.866489</td>\n",
       "      <td>0.297289</td>\n",
       "      <td>0.884910</td>\n",
       "    </tr>\n",
       "    <tr>\n",
       "      <th>3</th>\n",
       "      <td>4</td>\n",
       "      <td>0.286135</td>\n",
       "      <td>0.884070</td>\n",
       "      <td>0.322578</td>\n",
       "      <td>0.858483</td>\n",
       "    </tr>\n",
       "    <tr>\n",
       "      <th>4</th>\n",
       "      <td>5</td>\n",
       "      <td>0.255768</td>\n",
       "      <td>0.899094</td>\n",
       "      <td>0.284334</td>\n",
       "      <td>0.896846</td>\n",
       "    </tr>\n",
       "  </tbody>\n",
       "</table>\n",
       "</div>"
      ],
      "text/plain": [
       "  epoch  training_loss  training_acc  valid_loss  valid_acc\n",
       "0     1       0.812216      0.689931    0.455923   0.780904\n",
       "1     2       0.405340      0.823442    0.360418   0.845695\n",
       "2     3       0.322367      0.866489    0.297289   0.884910\n",
       "3     4       0.286135      0.884070    0.322578   0.858483\n",
       "4     5       0.255768      0.899094    0.284334   0.896846"
      ]
     },
     "execution_count": 4,
     "metadata": {},
     "output_type": "execute_result"
    }
   ],
   "source": [
    "df.head()"
   ]
  },
  {
   "cell_type": "code",
   "execution_count": 5,
   "metadata": {},
   "outputs": [
    {
     "data": {
      "image/png": "[encoded data removed]",
      "text/plain": [
       "<Figure size 432x288 with 1 Axes>"
      ]
     },
     "metadata": {
      "needs_background": "light"
     },
     "output_type": "display_data"
    }
   ],
   "source": [
    "import matplotlib.pyplot as plt\n",
    "plt.plot(df['valid_loss'])\n",
    "plt.plot(df['training_loss'])\n",
    "plt.show()"
   ]
  },
  {
   "cell_type": "code",
   "execution_count": 6,
   "metadata": {},
   "outputs": [
    {
     "data": {
      "image/png": "[encoded data removed]",
      "text/plain": [
       "<Figure size 432x288 with 1 Axes>"
      ]
     },
     "metadata": {
      "needs_background": "light"
     },
     "output_type": "display_data"
    }
   ],
   "source": [
    "import matplotlib.pyplot as plt\n",
    "plt.plot(df['valid_acc'])\n",
    "plt.plot(df['training_acc'])\n",
    "plt.show()"
   ]
  },
  {
   "cell_type": "code",
   "execution_count": 7,
   "metadata": {},
   "outputs": [],
   "source": [
    "# test set data loader\n",
    "test_data = magic.CameraTrapsDataset(csv_file=f'{name}.csv', root_dir=data_dir)\n",
    "test_dataloader = DataLoader(test_data, batch_size=batch_size, shuffle=True, num_workers=8)\n",
    "# class names\n",
    "class_names = ['negative', 'positive']"
   ]
  },
  {
   "cell_type": "code",
   "execution_count": 8,
   "metadata": {},
   "outputs": [],
   "source": [
    "# load model and best training weights\n",
    "#model = models.densenet121(pretrained=False)\n",
    "model = models.resnet50(pretrained=False)\n",
    "model.classifier = nn.Linear(1024, 2)\n",
    "model.load_state_dict(torch.load('MTZ_S1_detection_scratch_resnet50_01.pth'))\n",
    "parallel_model = torch.nn.DataParallel(model).to(device)"
   ]
  },
  {
   "cell_type": "code",
   "execution_count": 9,
   "metadata": {},
   "outputs": [
    {
     "name": "stdout",
     "output_type": "stream",
     "text": [
      "16357/16357: [===============================>] - ETA 22.8sss\n"
     ]
    },
    {
     "data": {
      "text/plain": [
       "0.571926392370239"
      ]
     },
     "execution_count": 9,
     "metadata": {},
     "output_type": "execute_result"
    }
   ],
   "source": [
    "# forward pass on test set\n",
    "label_list = []\n",
    "pred_list = []\n",
    "img_list = []\n",
    "\n",
    "with torch.no_grad():\n",
    "    for idx, data in enumerate(Bar(test_dataloader)):\n",
    "        inputs = Variable(data.get('image')).to(device)\n",
    "        target = Variable(data.get('class')).to(device)\n",
    "        imagepaths = data.get('imagepath')\n",
    "        output = parallel_model(inputs)\n",
    "        _, preds = torch.max(output, 1)\n",
    "        \n",
    "        label_list.append(target)\n",
    "        pred_list.append(preds)\n",
    "        img_list.extend(imagepaths)\n",
    "        \n",
    "Y = label_list[0]\n",
    "Y_hat = pred_list[0]\n",
    "for i in range(1, len(label_list)):\n",
    "    Y = torch.cat((Y, label_list[i]), dim=0)\n",
    "    Y_hat = torch.cat((Y_hat, pred_list[i]), dim=0)\n",
    "        \n",
    "Y = Y.cpu().numpy()\n",
    "Y_hat = Y_hat.cpu().numpy()\n",
    "accuracy_score(Y, Y_hat)"
   ]
  },
  {
   "cell_type": "code",
   "execution_count": 10,
   "metadata": {},
   "outputs": [
    {
     "data": {
      "image/png": "[encoded data removed]",
      "text/plain": [
       "<Figure size 432x288 with 2 Axes>"
      ]
     },
     "metadata": {
      "needs_background": "light"
     },
     "output_type": "display_data"
    }
   ],
   "source": [
    "import scikitplot as skplt\n",
    "skplt.metrics.plot_confusion_matrix(Y, Y_hat)\n",
    "plt.show()"
   ]
  },
  {
   "cell_type": "code",
   "execution_count": 11,
   "metadata": {},
   "outputs": [
    {
     "name": "stdout",
     "output_type": "stream",
     "text": [
      "Photos in Test Set: 16357\n",
      "Photos Missed: 7002\n"
     ]
    }
   ],
   "source": [
    "# index misclassified images\n",
    "missed = {}\n",
    "count = 0\n",
    "for i in range(len(Y)):\n",
    "    if Y[i] != Y_hat[i]:\n",
    "        missed.update({count:i})\n",
    "        count += 1\n",
    "print(f'Photos in Test Set: {len(Y)}')\n",
    "print(f'Photos Missed: {len(missed)}')"
   ]
  },
  {
   "cell_type": "code",
   "execution_count": null,
   "metadata": {},
   "outputs": [],
   "source": [
    "# Misclassification Report\n",
    "print('Misclassification Report')\n",
    "\n",
    "for i in range(len(missed)):\n",
    "    index = missed.get(i)\n",
    "    path = img_list[index]\n",
    "    reverse_class_map = {1:'positive', 0:'negative'}\n",
    "\n",
    "    # plot images\n",
    "    print(f'Ground Truth: {reverse_class_map.get(Y[index])}')\n",
    "    print(f'Prediction: {reverse_class_map.get(Y_hat[index])}')\n",
    "    print(f'{path}')\n",
    "    image = cv2.imread(path)\n",
    "    plt.figure(figsize = (12,12))\n",
    "    plt.imshow(image, cmap=None, interpolation='None', aspect=None)\n",
    "    #plt.xticks([]), plt.yticks([])  # to hide tick values on X and Y axis\n",
    "    plt.show()\n",
    "    print()"
   ]
  },
  {
   "cell_type": "code",
   "execution_count": null,
   "metadata": {},
   "outputs": [],
   "source": []
  }
 ],
 "metadata": {
  "kernelspec": {
   "display_name": "Python 3",
   "language": "python",
   "name": "python3"
  },
  "language_info": {
   "codemirror_mode": {
    "name": "ipython",
    "version": 3
   },
   "file_extension": ".py",
   "mimetype": "text/x-python",
   "name": "python",
   "nbconvert_exporter": "python",
   "pygments_lexer": "ipython3",
   "version": "3.8.1"
  }
 },
 "nbformat": 4,
 "nbformat_minor": 4
}
